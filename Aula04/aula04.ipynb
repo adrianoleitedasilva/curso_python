{
 "cells": [
  {
   "cell_type": "markdown",
   "id": "a389bf77",
   "metadata": {},
   "source": [
    "# Aula 04 - Expressões Regulares\n",
    "\n",
    "## O que são Expressões Regulares?\n",
    "Expressões regulares são padrões usados para buscar, combinar ou manipular textos com base em regras predefinidas. São muito úteis para:\n",
    "\n",
    "- Validar dados (e-mails, CPF, datas, etc.)\n",
    "- Buscar palavras ou padrões em textos\n",
    "- Substituir partes de uma string\n",
    "- Extrair informações\n",
    "\n",
    "## Módulo re do Python\n",
    "\n",
    "O Python usa o módulo re para trabalhar com expressões regulares. Para usá-lo:\n",
    "\n",
    "```cmd\n",
    "import re\n",
    "```\n",
    "\n",
    "## Principais Funções do re\n",
    "\n",
    "- **re.match()** - Verifica se o padrão casa no início da string\n",
    "- **re.search()** - Procura o padrão em qualquer parte da string\n",
    "- **re.findall()** - Retorna todas as ocorrências do padrão na string\n",
    "- **re.finditer()** - Retorna um iterador com Match Objects para cada ocorrência\n",
    "- **re.sub()** - Substitui todas as ocorrências do padrão\n",
    "- **re.split()** - Divide a string com base no padrão\n",
    "- **re.compile()** - Compila o padrão para reutilização\n",
    "\n",
    "## Componentes de uma Expressão Regular\n",
    "\n",
    "1. **Literais** - Buscam exatamente o que está escrito."
   ]
  },
  {
   "cell_type": "code",
   "execution_count": 4,
   "id": "e1b763ed",
   "metadata": {},
   "outputs": [],
   "source": [
    "import re"
   ]
  },
  {
   "cell_type": "code",
   "execution_count": 5,
   "id": "9f3a0e2b",
   "metadata": {},
   "outputs": [
    {
     "data": {
      "text/plain": [
       "<re.Match object; span=(2, 6), match='casa'>"
      ]
     },
     "execution_count": 5,
     "metadata": {},
     "output_type": "execute_result"
    }
   ],
   "source": [
    "re.search(\"casa\", \"A casa é azul.\")  # Match encontrado"
   ]
  },
  {
   "cell_type": "markdown",
   "id": "b4a8c9e5",
   "metadata": {},
   "source": [
    "## Metacaracteres (com significado especial)\n",
    "\n",
    "| Símbolo | Significado                             |\n",
    "| ------- | --------------------------------------- | \n",
    "| `.`     | Qualquer caractere (exceto `\\n`)        |\n",
    "| `^`     | Início da string                        |\n",
    "| `$`     | Fim da string                           |\n",
    "| `*`     | 0 ou mais ocorrências                   |\n",
    "| `+`     | 1 ou mais ocorrências                   |\n",
    "| `?`     | 0 ou 1 ocorrência                       |\n",
    "| `{n}`   | Exatamente n ocorrências                |\n",
    "| `{n,m}` | Entre n e m ocorrências                 |\n",
    "| `[]`    | Qualquer caractere dentro dos colchetes |\n",
    "| \\`      | \\`                                      |\n",
    "| `()`    | Agrupamento (captura de grupos)         |\n",
    "\n",
    "## Classes Predefinidas\n",
    "| Classe | Descrição                     |\n",
    "| ------ | ----------------------------- |\n",
    "| `\\d`   | Dígito (equivale a `[0-9]`)   |\n",
    "| `\\D`   | Não dígito                    |\n",
    "| `\\w`   | Palavra (letras, números, \\_) |\n",
    "| `\\W`   | Não palavra                   |\n",
    "| `\\s`   | Espaço (espaço, tab, newline) |\n",
    "| `\\S`   | Não espaço                    |\n",
    "| `\\\\`   | Escape de caractere           |\n",
    "\n",
    "**Exemplos Práticos**\n",
    "\n",
    "**Buscar CEP (formato 00000-000)**"
   ]
  },
  {
   "cell_type": "code",
   "execution_count": 6,
   "id": "e1b549ef",
   "metadata": {},
   "outputs": [
    {
     "name": "stdout",
     "output_type": "stream",
     "text": [
      "12345-678\n"
     ]
    }
   ],
   "source": [
    "texto = \"Meu CEP é 12345-678\"\n",
    "padrao = r'\\d{5}-\\d{3}'\n",
    "\n",
    "resultado = re.search(padrao, texto)\n",
    "print(resultado.group())  # 12345-678"
   ]
  },
  {
   "cell_type": "markdown",
   "id": "62348fd5",
   "metadata": {},
   "source": [
    "- Criamos uma **expressão regular** para encontrar o CEP.\n",
    "- O prefixo `r` cria uma **raw string**, evitando problemas com caracteres de escape (ex: `\\n`, `\\t`, etc.).\n",
    "- Vamos quebrar o padrão:\n",
    "  - `\\d` → representa **qualquer dígito numérico (0–9)**.\n",
    "  - `\\d{5}` → significa **exatamente 5 dígitos seguidos**.\n",
    "  - `-` → representa o **hífen literal** entre os blocos do CEP.\n",
    "  - `\\d{3}` → significa **exatamente 3 dígitos seguidos**.\n",
    "- Ou seja, o padrão `\\d{5}-\\d{3}` casa com **CEPs no formato 00000-000**.\n",
    "\n",
    "\n",
    "**Validar e-mail**"
   ]
  },
  {
   "cell_type": "code",
   "execution_count": 7,
   "id": "2f430357",
   "metadata": {},
   "outputs": [
    {
     "name": "stdout",
     "output_type": "stream",
     "text": [
      "E-mail válido!\n"
     ]
    }
   ],
   "source": [
    "email = \"teste@email.com\"\n",
    "padrao = r'^[\\w\\.-]+@[\\w\\.-]+\\.\\w{2,}$'\n",
    "\n",
    "if re.match(padrao, email):\n",
    "    print(\"E-mail válido!\")\n",
    "else:\n",
    "    print(\"E-mail inválido.\")\n"
   ]
  },
  {
   "cell_type": "markdown",
   "id": "fda7566b",
   "metadata": {},
   "source": [
    "**padrao = r'^[\\w\\.-]+@[\\w\\.-]+\\.\\w{2,}$'**\n",
    "\n",
    "Essa é a expressão regular. Vamos quebrá-la e entender:**\n",
    "\n",
    "| Padrão     | Significado                                                                                                         |\n",
    "| ---------- | ------------------------------------------------------------------------------------------------------------------- |\n",
    "| `^`        | Início da string                                                                                                    |\n",
    "| `[\\w\\.-]+` | Um ou mais caracteres alfanuméricos (`\\w`), ponto (`.`) ou hífen (`-`) – isso cobre o **nome do usuário** do e-mail |\n",
    "| `@`        | O símbolo arroba obrigatório                                                                                        |\n",
    "| `[\\w\\.-]+` | Um ou mais caracteres alfanuméricos, ponto ou hífen – representa o **domínio**                                      |\n",
    "| `\\.`       | Um ponto literal                                                                                                    |\n",
    "| `\\w{2,}`   | Pelo menos 2 caracteres alfanuméricos – representa o **TLD** (como `com`, `org`, `br`)                              |\n",
    "| `$`        | Fim da string                                                                                                       |\n",
    "\n",
    "**Essa regex valida e-mails no formato básico:** nome@dominio.extensao\n",
    "\n",
    "**if re.match(padrao, email):**\n",
    "- Usa re.match() para verificar se o início da string bate com o padrão.\n",
    "- Se sim, é retornado um Match object (verdadeiro).\n",
    "\n",
    "**print(\"E-mail válido!\")**\n",
    "- Se a correspondência foi encontrada, exibe mensagem de sucesso.\n",
    "\n",
    "**else: print(\"E-mail inválido.\")**\n",
    "- Se não houve correspondência, imprime que o e-mail não é válido.\n",
    "\n",
    "## Substituir números por #"
   ]
  },
  {
   "cell_type": "code",
   "execution_count": 8,
   "id": "5ee970cb",
   "metadata": {},
   "outputs": [
    {
     "name": "stdout",
     "output_type": "stream",
     "text": [
      "O valor é # e o código é #\n"
     ]
    }
   ],
   "source": [
    "texto = \"O valor é 45 e o código é 982\"\n",
    "resultado = re.sub(r'\\d+', '#', texto)\n",
    "print(resultado)  # O valor é # e o código é #"
   ]
  },
  {
   "cell_type": "markdown",
   "id": "a6560833",
   "metadata": {},
   "source": [
    "**resultado = re.sub(r'\\d+', '#', texto)**\n",
    "\n",
    "Essa é a linha que faz a substituição. Vamos entender:\n",
    "\n",
    "**re.sub(padrão, substituto, texto)**\n",
    "- Substitui todas as ocorrências do padrão dentro do texto pelo valor indicado.\n",
    "- Aqui:\n",
    "    - padrão = r'\\d+'\n",
    "        - \\d → representa qualquer dígito de 0 a 9\n",
    "        - + → significa um ou mais dígitos seguidos \n",
    "        - Ou seja: encontra números inteiros de qualquer tamanho.\n",
    "    - substituto = '#'\n",
    "        - Cada número encontrado será trocado por #\n",
    "    - texto é a string onde a substituição será feita\n",
    "\n",
    "**Resultado:**\n",
    "   - Encontra 45 → substitui por #\n",
    "   -  Encontra 982 → substitui por #\n",
    "\n",
    "# Extrair todas as palavras com mais de 4 letras "
   ]
  },
  {
   "cell_type": "code",
   "execution_count": 9,
   "id": "6f3e55b1",
   "metadata": {},
   "outputs": [
    {
     "name": "stdout",
     "output_type": "stream",
     "text": [
      "['Python', 'linguagem', 'poderosa', 'divertida']\n"
     ]
    }
   ],
   "source": [
    "texto = \"Python é uma linguagem poderosa e divertida\"\n",
    "resultado = re.findall(r'\\b\\w{5,}\\b', texto)\n",
    "print(resultado)  # ['Python', 'linguagem', 'poderosa', 'divertida']\n"
   ]
  },
  {
   "cell_type": "markdown",
   "id": "c1b14424",
   "metadata": {},
   "source": [
    "**texto = \"Python é uma linguagem poderosa e divertida\"**\n",
    "\n",
    "Define uma string com várias palavras. Vamos analisar as palavras:\n",
    "\n",
    "- \"Python\" → 6 letras ✅\n",
    "- \"é\" → 1 letra ❌\n",
    "- \"uma\" → 3 letras ❌\n",
    "- \"linguagem\" → 9 letras ✅\n",
    "- \"poderosa\" → 8 letras ✅\n",
    "- \"e\" → 1 letra ❌\n",
    "- \"divertida\" → 9 letras ✅\n",
    "\n",
    "**resultado = re.findall(r'\\b\\w{5,}\\b', texto)**\n",
    "- Aqui está o \"coração\" do código. Vamos quebrar a expressão regular r'\\b\\w{5,}\\b':\n",
    "\n",
    "| Padrão   | Significado                                                                          |\n",
    "| -------- | ------------------------------------------------------------------------------------ |\n",
    "| `r''`    | Raw string – impede que o Python interprete `\\` como caractere de escape.            |\n",
    "| `\\b`     | Delimita uma **fronteira de palavra** (início ou fim).                               |\n",
    "| `\\w{5,}` | Captura uma **palavra** com **5 ou mais caracteres**. `\\w` equivale a `[a-zA-Z0-9_]` |\n",
    "| `\\b`     | Final da palavra (outra fronteira).                                                  |\n",
    "\n",
    "**Ou seja, essa expressão encontra palavras completas com 5 ou mais caracteres.**\n",
    "\n",
    "**Revisando:**\n",
    "\n",
    "| Palavra   | Tem 5 ou mais letras? | É capturada? |\n",
    "| --------- | --------------------- | ------------ |\n",
    "| Python    | ✅ Sim (6 letras)      | ✅ Sim        |\n",
    "| é         | ❌ Não (1 letra)       | ❌ Não        |\n",
    "| uma       | ❌ Não (3 letras)      | ❌ Não        |\n",
    "| linguagem | ✅ Sim (9 letras)      | ✅ Sim        |\n",
    "| poderosa  | ✅ Sim (8 letras)      | ✅ Sim        |\n",
    "| e         | ❌ Não (1 letra)       | ❌ Não        |\n",
    "| divertida | ✅ Sim (9 letras)      | ✅ Sim        |\n",
    "\n",
    "Você pode alterar a regex para buscar palavras de outro tamanho:\n",
    "- **\\w{3,}** → 3 ou mais letras\n",
    "- **\\w{7,10}** → entre 7 e 10 letras"
   ]
  },
  {
   "cell_type": "markdown",
   "id": "e75d776a",
   "metadata": {},
   "source": [
    "## Desafios\n",
    "\n",
    "**1** - Crie um script que leia uma lista de CPFs e valide quais são válidos no formato 000.000.000-00."
   ]
  },
  {
   "cell_type": "code",
   "execution_count": 11,
   "id": "8576afab",
   "metadata": {},
   "outputs": [
    {
     "name": "stdout",
     "output_type": "stream",
     "text": [
      "123.456.789-00 é válido.\n",
      "12345678900 é inválido.\n",
      "999.999.999-99 é válido.\n"
     ]
    }
   ],
   "source": [
    "cpfs = [\"123.456.789-00\", \"12345678900\", \"999.999.999-99\"]\n",
    "padrao = r'^\\d{3}\\.\\d{3}\\.\\d{3}-\\d{2}$'\n",
    "\n",
    "for cpf in cpfs:\n",
    "    if re.match(padrao, cpf):\n",
    "        print(f\"{cpf} é válido.\")\n",
    "    else:\n",
    "        print(f\"{cpf} é inválido.\")\n"
   ]
  },
  {
   "cell_type": "markdown",
   "id": "da26aa77",
   "metadata": {},
   "source": [
    "**2** - Extraia todos os números de um texto.\n",
    "\n",
    "```python\n",
    "texto = \"O produto A custa 45 reais, o B custa 120 e o C está por 7.\"\n",
    "# Saída esperada: ['45', '120', '7']\n",
    "```"
   ]
  },
  {
   "cell_type": "code",
   "execution_count": 12,
   "id": "732aff0c",
   "metadata": {},
   "outputs": [
    {
     "name": "stdout",
     "output_type": "stream",
     "text": [
      "Números encontrados: ['45', '120', '7']\n"
     ]
    }
   ],
   "source": [
    "import re\n",
    "\n",
    "texto = \"O produto A custa 45 reais, o B custa 120 e o C está por 7.\"\n",
    "resultado = re.findall(r'\\d+', texto)\n",
    "print(\"Números encontrados:\", resultado)"
   ]
  },
  {
   "cell_type": "markdown",
   "id": "dbe9c3c1",
   "metadata": {},
   "source": [
    "**3** - Verifique se o texto contém um CEP válido.\n",
    "\n",
    "```python\n",
    "texto = \"Entregas para 04567-123 ou 99999-000 estão disponíveis.\"\n",
    "# Saída esperada: ['04567-123', '99999-000']\n",
    "```"
   ]
  },
  {
   "cell_type": "code",
   "execution_count": 13,
   "id": "66198b17",
   "metadata": {},
   "outputs": [
    {
     "name": "stdout",
     "output_type": "stream",
     "text": [
      "CEPs encontrados: ['04567-123', '99999-000']\n"
     ]
    }
   ],
   "source": [
    "import re\n",
    "\n",
    "texto = \"Entregas para 04567-123 ou 99999-000 estão disponíveis.\"\n",
    "resultado = re.findall(r'\\d{5}-\\d{3}', texto)\n",
    "print(\"CEPs encontrados:\", resultado)"
   ]
  },
  {
   "cell_type": "markdown",
   "id": "951d2e68",
   "metadata": {},
   "source": [
    "**4** - Oculte palavras ofensivas.\n",
    "\n",
    "```python\n",
    "texto = \"Esse produto é horrível e péssimo!\"\n",
    "# Saída esperada: \"Esse produto é *** e ***!\"\n",
    "```"
   ]
  },
  {
   "cell_type": "code",
   "execution_count": 15,
   "id": "033855fd",
   "metadata": {},
   "outputs": [
    {
     "name": "stdout",
     "output_type": "stream",
     "text": [
      "Texto filtrado: Esse produto é *** e ***!\n"
     ]
    }
   ],
   "source": [
    "import re\n",
    "\n",
    "texto = \"Esse produto é horrível e péssimo!\"\n",
    "resultado = re.sub(r'horrível|péssimo', '***', texto, flags=re.IGNORECASE)\n",
    "print(\"Texto filtrado:\", resultado)"
   ]
  },
  {
   "cell_type": "markdown",
   "id": "531b94ce",
   "metadata": {},
   "source": [
    "**5** - Verifique se a string está no formato correto de CPF.\n",
    "\n",
    "```python\n",
    "cpf = \"123.456.789-09\"\n",
    "# Saída esperada: válido\n",
    "```"
   ]
  },
  {
   "cell_type": "code",
   "execution_count": 16,
   "id": "68cdf8b8",
   "metadata": {},
   "outputs": [
    {
     "name": "stdout",
     "output_type": "stream",
     "text": [
      "CPF válido.\n"
     ]
    }
   ],
   "source": [
    "import re\n",
    "\n",
    "cpf = \"123.456.789-09\"\n",
    "padrao = r'^\\d{3}\\.\\d{3}\\.\\d{3}-\\d{2}$'\n",
    "\n",
    "if re.match(padrao, cpf):\n",
    "    print(\"CPF válido.\")\n",
    "else:\n",
    "    print(\"CPF inválido.\")"
   ]
  },
  {
   "cell_type": "markdown",
   "id": "ae5d03c7",
   "metadata": {},
   "source": [
    "**6** - Reduza múltiplos espaços para apenas um.\n",
    "\n",
    "```python\n",
    "texto = \"Python    é     incrível!\"\n",
    "# Saída esperada: \"Python é incrível!\"\n",
    "```"
   ]
  },
  {
   "cell_type": "code",
   "execution_count": 17,
   "id": "e22f84af",
   "metadata": {},
   "outputs": [
    {
     "name": "stdout",
     "output_type": "stream",
     "text": [
      "Texto ajustado: Python é incrível!\n"
     ]
    }
   ],
   "source": [
    "import re\n",
    "\n",
    "texto = \"Python    é     incrível!\"\n",
    "resultado = re.sub(r'\\s+', ' ', texto)\n",
    "print(\"Texto ajustado:\", resultado.strip())"
   ]
  },
  {
   "cell_type": "markdown",
   "id": "acd91933",
   "metadata": {},
   "source": [
    "**7** - Encontre todas as hashtags e as remova.\n",
    "\n",
    "```python\n",
    "texto = \"Post sobre #Python, #regex e #automação\"\n",
    "# Saída esperada: ['#Python', '#regex', '#automação']\n",
    "```"
   ]
  },
  {
   "cell_type": "code",
   "execution_count": 18,
   "id": "2d7055ad",
   "metadata": {},
   "outputs": [
    {
     "name": "stdout",
     "output_type": "stream",
     "text": [
      "Hashtags encontradas: ['#Python', '#regex', '#automação']\n"
     ]
    }
   ],
   "source": [
    "import re\n",
    "\n",
    "texto = \"Post sobre #Python, #regex e #automação\"\n",
    "resultado = re.findall(r'#\\w+', texto)\n",
    "print(\"Hashtags encontradas:\", resultado)"
   ]
  },
  {
   "cell_type": "markdown",
   "id": "9c75fc74",
   "metadata": {},
   "source": [
    "**8** - Encontre todos os links em um texto.\n",
    "\n",
    "```python\n",
    "texto = \"Acesse https://google.com ou http://meusite.com.br\"\n",
    "# Saída esperada: ['https://google.com', 'http://meusite.com.br']\n",
    "```"
   ]
  },
  {
   "cell_type": "code",
   "execution_count": 19,
   "id": "8568768d",
   "metadata": {},
   "outputs": [
    {
     "name": "stdout",
     "output_type": "stream",
     "text": [
      "URLs encontradas: ['https://google.com', 'http://meusite.com.br']\n"
     ]
    }
   ],
   "source": [
    "import re\n",
    "\n",
    "texto = \"Acesse https://google.com ou http://meusite.com.br para mais informações.\"\n",
    "resultado = re.findall(r'https?://[^\\s]+', texto)\n",
    "print(\"URLs encontradas:\", resultado)"
   ]
  },
  {
   "cell_type": "markdown",
   "id": "8b194477",
   "metadata": {},
   "source": [
    "**9** - Encontrar todas as datas em uma string.\n",
    "\n",
    "```python\n",
    "texto = \"Datas importantes: 25/12/2023, 01-01-2024\"\n",
    "# Saída esperada: ['25/12/2023', '01-01-2024']\n",
    "```"
   ]
  },
  {
   "cell_type": "code",
   "execution_count": 20,
   "id": "181ed702",
   "metadata": {},
   "outputs": [
    {
     "name": "stdout",
     "output_type": "stream",
     "text": [
      "Datas encontradas: ['25/12/2023', '01-01-2024', '14/07/2022']\n"
     ]
    }
   ],
   "source": [
    "import re\n",
    "\n",
    "texto = \"Datas importantes: 25/12/2023, 01-01-2024, e 14/07/2022.\"\n",
    "resultado = re.findall(r'\\d{2}[-/]\\d{2}[-/]\\d{4}', texto)\n",
    "print(\"Datas encontradas:\", resultado)"
   ]
  },
  {
   "cell_type": "markdown",
   "id": "1bd398f3",
   "metadata": {},
   "source": []
  }
 ],
 "metadata": {
  "kernelspec": {
   "display_name": "base",
   "language": "python",
   "name": "python3"
  },
  "language_info": {
   "codemirror_mode": {
    "name": "ipython",
    "version": 3
   },
   "file_extension": ".py",
   "mimetype": "text/x-python",
   "name": "python",
   "nbconvert_exporter": "python",
   "pygments_lexer": "ipython3",
   "version": "3.12.7"
  }
 },
 "nbformat": 4,
 "nbformat_minor": 5
}
