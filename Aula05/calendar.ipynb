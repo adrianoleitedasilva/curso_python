{
 "cells": [
  {
   "cell_type": "markdown",
   "id": "dcfb7ede",
   "metadata": {},
   "source": [
    "# O que é o módulo calendar?\n",
    "\n",
    "O módulo calendar da biblioteca padrão do Python fornece funções para:\n",
    "\n",
    "- Mostrar calendários em texto\n",
    "- Saber o dia da semana de uma data\n",
    "- Verificar anos bissextos\n",
    "- Obter informações sobre meses\n",
    "- Gerar estruturas de datas para manipulação\n",
    "\n",
    "Para usar, basta importar:"
   ]
  },
  {
   "cell_type": "code",
   "execution_count": 5,
   "id": "d3094e67",
   "metadata": {},
   "outputs": [],
   "source": [
    "import calendar"
   ]
  },
  {
   "cell_type": "markdown",
   "id": "d1e82937",
   "metadata": {},
   "source": [
    "Exibir o calendário de um mês"
   ]
  },
  {
   "cell_type": "code",
   "execution_count": 6,
   "id": "067c4970",
   "metadata": {},
   "outputs": [
    {
     "name": "stdout",
     "output_type": "stream",
     "text": [
      "      May 2025\n",
      "Mo Tu We Th Fr Sa Su\n",
      "          1  2  3  4\n",
      " 5  6  7  8  9 10 11\n",
      "12 13 14 15 16 17 18\n",
      "19 20 21 22 23 24 25\n",
      "26 27 28 29 30 31\n",
      "\n"
     ]
    }
   ],
   "source": [
    "print(calendar.month(2025, 5))"
   ]
  },
  {
   "cell_type": "markdown",
   "id": "b87e824d",
   "metadata": {},
   "source": [
    "Exibir o calendário de um ano inteiro"
   ]
  },
  {
   "cell_type": "code",
   "execution_count": 7,
   "id": "dde263f8",
   "metadata": {},
   "outputs": [
    {
     "name": "stdout",
     "output_type": "stream",
     "text": [
      "                                  2025\n",
      "\n",
      "      January                   February                   March\n",
      "Mo Tu We Th Fr Sa Su      Mo Tu We Th Fr Sa Su      Mo Tu We Th Fr Sa Su\n",
      "       1  2  3  4  5                      1  2                      1  2\n",
      " 6  7  8  9 10 11 12       3  4  5  6  7  8  9       3  4  5  6  7  8  9\n",
      "13 14 15 16 17 18 19      10 11 12 13 14 15 16      10 11 12 13 14 15 16\n",
      "20 21 22 23 24 25 26      17 18 19 20 21 22 23      17 18 19 20 21 22 23\n",
      "27 28 29 30 31            24 25 26 27 28            24 25 26 27 28 29 30\n",
      "                                                    31\n",
      "\n",
      "       April                      May                       June\n",
      "Mo Tu We Th Fr Sa Su      Mo Tu We Th Fr Sa Su      Mo Tu We Th Fr Sa Su\n",
      "    1  2  3  4  5  6                1  2  3  4                         1\n",
      " 7  8  9 10 11 12 13       5  6  7  8  9 10 11       2  3  4  5  6  7  8\n",
      "14 15 16 17 18 19 20      12 13 14 15 16 17 18       9 10 11 12 13 14 15\n",
      "21 22 23 24 25 26 27      19 20 21 22 23 24 25      16 17 18 19 20 21 22\n",
      "28 29 30                  26 27 28 29 30 31         23 24 25 26 27 28 29\n",
      "                                                    30\n",
      "\n",
      "        July                     August                  September\n",
      "Mo Tu We Th Fr Sa Su      Mo Tu We Th Fr Sa Su      Mo Tu We Th Fr Sa Su\n",
      "    1  2  3  4  5  6                   1  2  3       1  2  3  4  5  6  7\n",
      " 7  8  9 10 11 12 13       4  5  6  7  8  9 10       8  9 10 11 12 13 14\n",
      "14 15 16 17 18 19 20      11 12 13 14 15 16 17      15 16 17 18 19 20 21\n",
      "21 22 23 24 25 26 27      18 19 20 21 22 23 24      22 23 24 25 26 27 28\n",
      "28 29 30 31               25 26 27 28 29 30 31      29 30\n",
      "\n",
      "      October                   November                  December\n",
      "Mo Tu We Th Fr Sa Su      Mo Tu We Th Fr Sa Su      Mo Tu We Th Fr Sa Su\n",
      "       1  2  3  4  5                      1  2       1  2  3  4  5  6  7\n",
      " 6  7  8  9 10 11 12       3  4  5  6  7  8  9       8  9 10 11 12 13 14\n",
      "13 14 15 16 17 18 19      10 11 12 13 14 15 16      15 16 17 18 19 20 21\n",
      "20 21 22 23 24 25 26      17 18 19 20 21 22 23      22 23 24 25 26 27 28\n",
      "27 28 29 30 31            24 25 26 27 28 29 30      29 30 31\n",
      "\n"
     ]
    }
   ],
   "source": [
    "print(calendar.calendar(2025))"
   ]
  },
  {
   "cell_type": "markdown",
   "id": "17985c42",
   "metadata": {},
   "source": [
    "Obter o dia da semana de uma data"
   ]
  },
  {
   "cell_type": "code",
   "execution_count": 8,
   "id": "b93527c1",
   "metadata": {},
   "outputs": [
    {
     "name": "stdout",
     "output_type": "stream",
     "text": [
      "0\n"
     ]
    }
   ],
   "source": [
    "dia_semana = calendar.weekday(2025, 5, 12)\n",
    "print(dia_semana)  # 0 = segunda-feira, 6 = domingo"
   ]
  },
  {
   "cell_type": "code",
   "execution_count": 9,
   "id": "f32ee85d",
   "metadata": {},
   "outputs": [
    {
     "name": "stdout",
     "output_type": "stream",
     "text": [
      "12/05/2025 é uma Seg\n"
     ]
    }
   ],
   "source": [
    "dias = ['Seg', 'Ter', 'Qua', 'Qui', 'Sex', 'Sab', 'Dom']\n",
    "print(f\"12/05/2025 é uma {dias[dia_semana]}\")\n"
   ]
  },
  {
   "cell_type": "markdown",
   "id": "d99dfff0",
   "metadata": {},
   "source": [
    "Verificar se um ano é bissexto"
   ]
  },
  {
   "cell_type": "code",
   "execution_count": 10,
   "id": "43833ec5",
   "metadata": {},
   "outputs": [
    {
     "name": "stdout",
     "output_type": "stream",
     "text": [
      "True\n",
      "False\n"
     ]
    }
   ],
   "source": [
    "print(calendar.isleap(2024))  # True\n",
    "print(calendar.isleap(2025))  # False"
   ]
  },
  {
   "cell_type": "markdown",
   "id": "1d6e80e9",
   "metadata": {},
   "source": [
    "Quantos anos bissextos entre dois anos?"
   ]
  },
  {
   "cell_type": "code",
   "execution_count": 11,
   "id": "0e7fc5a9",
   "metadata": {},
   "outputs": [
    {
     "name": "stdout",
     "output_type": "stream",
     "text": [
      "7\n"
     ]
    }
   ],
   "source": [
    "print(calendar.leapdays(2000, 2025))  # Conta de 2000 até 2024"
   ]
  },
  {
   "cell_type": "markdown",
   "id": "ee64dfe1",
   "metadata": {},
   "source": [
    "Iterar pelos meses do ano"
   ]
  },
  {
   "cell_type": "code",
   "execution_count": 12,
   "id": "1b7fa6bc",
   "metadata": {},
   "outputs": [
    {
     "name": "stdout",
     "output_type": "stream",
     "text": [
      "    January 2025\n",
      "Mo Tu We Th Fr Sa Su\n",
      "       1  2  3  4  5\n",
      " 6  7  8  9 10 11 12\n",
      "13 14 15 16 17 18 19\n",
      "20 21 22 23 24 25 26\n",
      "27 28 29 30 31\n",
      "\n",
      "   February 2025\n",
      "Mo Tu We Th Fr Sa Su\n",
      "                1  2\n",
      " 3  4  5  6  7  8  9\n",
      "10 11 12 13 14 15 16\n",
      "17 18 19 20 21 22 23\n",
      "24 25 26 27 28\n",
      "\n",
      "     March 2025\n",
      "Mo Tu We Th Fr Sa Su\n",
      "                1  2\n",
      " 3  4  5  6  7  8  9\n",
      "10 11 12 13 14 15 16\n",
      "17 18 19 20 21 22 23\n",
      "24 25 26 27 28 29 30\n",
      "31\n",
      "\n",
      "     April 2025\n",
      "Mo Tu We Th Fr Sa Su\n",
      "    1  2  3  4  5  6\n",
      " 7  8  9 10 11 12 13\n",
      "14 15 16 17 18 19 20\n",
      "21 22 23 24 25 26 27\n",
      "28 29 30\n",
      "\n",
      "      May 2025\n",
      "Mo Tu We Th Fr Sa Su\n",
      "          1  2  3  4\n",
      " 5  6  7  8  9 10 11\n",
      "12 13 14 15 16 17 18\n",
      "19 20 21 22 23 24 25\n",
      "26 27 28 29 30 31\n",
      "\n",
      "     June 2025\n",
      "Mo Tu We Th Fr Sa Su\n",
      "                   1\n",
      " 2  3  4  5  6  7  8\n",
      " 9 10 11 12 13 14 15\n",
      "16 17 18 19 20 21 22\n",
      "23 24 25 26 27 28 29\n",
      "30\n",
      "\n",
      "     July 2025\n",
      "Mo Tu We Th Fr Sa Su\n",
      "    1  2  3  4  5  6\n",
      " 7  8  9 10 11 12 13\n",
      "14 15 16 17 18 19 20\n",
      "21 22 23 24 25 26 27\n",
      "28 29 30 31\n",
      "\n",
      "    August 2025\n",
      "Mo Tu We Th Fr Sa Su\n",
      "             1  2  3\n",
      " 4  5  6  7  8  9 10\n",
      "11 12 13 14 15 16 17\n",
      "18 19 20 21 22 23 24\n",
      "25 26 27 28 29 30 31\n",
      "\n",
      "   September 2025\n",
      "Mo Tu We Th Fr Sa Su\n",
      " 1  2  3  4  5  6  7\n",
      " 8  9 10 11 12 13 14\n",
      "15 16 17 18 19 20 21\n",
      "22 23 24 25 26 27 28\n",
      "29 30\n",
      "\n",
      "    October 2025\n",
      "Mo Tu We Th Fr Sa Su\n",
      "       1  2  3  4  5\n",
      " 6  7  8  9 10 11 12\n",
      "13 14 15 16 17 18 19\n",
      "20 21 22 23 24 25 26\n",
      "27 28 29 30 31\n",
      "\n",
      "   November 2025\n",
      "Mo Tu We Th Fr Sa Su\n",
      "                1  2\n",
      " 3  4  5  6  7  8  9\n",
      "10 11 12 13 14 15 16\n",
      "17 18 19 20 21 22 23\n",
      "24 25 26 27 28 29 30\n",
      "\n",
      "   December 2025\n",
      "Mo Tu We Th Fr Sa Su\n",
      " 1  2  3  4  5  6  7\n",
      " 8  9 10 11 12 13 14\n",
      "15 16 17 18 19 20 21\n",
      "22 23 24 25 26 27 28\n",
      "29 30 31\n",
      "\n"
     ]
    }
   ],
   "source": [
    "for mes in range(1, 13):\n",
    "    print(calendar.month(2025, mes))"
   ]
  },
  {
   "cell_type": "markdown",
   "id": "d1961df5",
   "metadata": {},
   "source": [
    "### Desafio:\n",
    "\n",
    "Crie um script que pergunte ao usuário um ano e um mês e mostre:\n",
    "\n",
    "- O calendário do mês\n",
    "- O dia da semana do primeiro dia\n",
    "- Se o ano é bissexto"
   ]
  },
  {
   "cell_type": "code",
   "execution_count": 13,
   "id": "1c871396",
   "metadata": {},
   "outputs": [
    {
     "name": "stdout",
     "output_type": "stream",
     "text": [
      "\n",
      "Calendário:\n",
      "   December 2024\n",
      "Mo Tu We Th Fr Sa Su\n",
      "                   1\n",
      " 2  3  4  5  6  7  8\n",
      " 9 10 11 12 13 14 15\n",
      "16 17 18 19 20 21 22\n",
      "23 24 25 26 27 28 29\n",
      "30 31\n",
      "\n",
      "Primeiro dia do mês: Domingo\n",
      "Este é um ano bissexto.\n"
     ]
    }
   ],
   "source": [
    "import calendar\n",
    "\n",
    "ano = int(input(\"Digite o ano: \"))\n",
    "mes = int(input(\"Digite o mês (1 a 12): \"))\n",
    "\n",
    "print(\"\\nCalendário:\")\n",
    "print(calendar.month(ano, mes))\n",
    "\n",
    "primeiro_dia = calendar.weekday(ano, mes, 1)\n",
    "dias = ['Segunda', 'Terça', 'Quarta', 'Quinta', 'Sexta', 'Sábado', 'Domingo']\n",
    "print(f\"Primeiro dia do mês: {dias[primeiro_dia]}\")\n",
    "\n",
    "if calendar.isleap(ano):\n",
    "    print(\"Este é um ano bissexto.\")\n",
    "else:\n",
    "    print(\"Este não é um ano bissexto.\")\n"
   ]
  }
 ],
 "metadata": {
  "kernelspec": {
   "display_name": "base",
   "language": "python",
   "name": "python3"
  },
  "language_info": {
   "codemirror_mode": {
    "name": "ipython",
    "version": 3
   },
   "file_extension": ".py",
   "mimetype": "text/x-python",
   "name": "python",
   "nbconvert_exporter": "python",
   "pygments_lexer": "ipython3",
   "version": "3.12.7"
  }
 },
 "nbformat": 4,
 "nbformat_minor": 5
}
