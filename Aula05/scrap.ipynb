{
 "cells": [
  {
   "cell_type": "code",
   "execution_count": 2,
   "id": "054f13f2",
   "metadata": {},
   "outputs": [],
   "source": [
    "import requests\n",
    "from bs4 import BeautifulSoup"
   ]
  },
  {
   "cell_type": "code",
   "execution_count": 3,
   "id": "7e558a4f",
   "metadata": {},
   "outputs": [],
   "source": [
    "# URL alvo\n",
    "url = \"https://g1.globo.com/\""
   ]
  },
  {
   "cell_type": "code",
   "execution_count": 4,
   "id": "f2888b95",
   "metadata": {},
   "outputs": [],
   "source": [
    "# Requisição HTTP\n",
    "response = requests.get(url)\n",
    "if response.status_code != 200:\n",
    "    print(\"Erro ao acessar o site\")\n",
    "    exit()"
   ]
  },
  {
   "cell_type": "code",
   "execution_count": 5,
   "id": "a91d40f5",
   "metadata": {},
   "outputs": [],
   "source": [
    "# Parse do HTML\n",
    "soup = BeautifulSoup(response.text, 'html.parser')"
   ]
  },
  {
   "cell_type": "code",
   "execution_count": 6,
   "id": "2e79b120",
   "metadata": {},
   "outputs": [],
   "source": [
    "# Parse do HTML\n",
    "soup = BeautifulSoup(response.text, 'html.parser')"
   ]
  },
  {
   "cell_type": "code",
   "execution_count": 7,
   "id": "42d968d1",
   "metadata": {},
   "outputs": [],
   "source": [
    "# Seleciona os elementos das manchetes (verifique se mudou no site)\n",
    "noticias = soup.find_all('a', class_='feed-post-link')"
   ]
  },
  {
   "cell_type": "code",
   "execution_count": null,
   "id": "b1f8604c",
   "metadata": {},
   "outputs": [
    {
     "name": "stdout",
     "output_type": "stream",
     "text": [
      "\n",
      "📰 Últimas notícias do G1:\n",
      "\n",
      "- Ancelotti vai ganhar mais de R$ 5 milhões por mês na seleção; veja detalhes\n",
      "  🔗 https://ge.globo.com/futebol/selecao-brasileira/noticia/2025/05/12/salario-de-ancelotti-na-selecao-cbf-veja-valores-do-contrato.ghtml\n",
      "\n",
      "- China e EUA fecham acordo para reduzir taxação de importados\n",
      "  🔗 https://g1.globo.com/mundo/noticia/2025/05/12/china-e-eua-acordo-negociacoes-do-tarifaco.ghtml\n",
      "\n",
      "- ANÁLISE: por que o acordo entre China e EUA é boa notícia\n",
      "  🔗 https://g1.globo.com/politica/blog/valdo-cruz/post/2025/05/12/acordo-entre-china-e-eua-e-boa-noticia-para-o-brasil-e-para-os-mercados.ghtml\n",
      "\n",
      "- Esposa diz que Mujica está em estado terminal e sob cuidados paliativos\n",
      "  🔗 https://g1.globo.com/mundo/noticia/2025/05/12/mulher-de-jose-mujica-diz-que-ex-presidente-do-uruguai-esta-em-estado-terminal-sob-cuidados-paliativos.ghtml\n",
      "\n",
      "- Enem 2025: resultado dos pedidos de isenção da taxa é divulgado\n",
      "  🔗 https://g1.globo.com/educacao/noticia/2025/05/12/enem-2025-resultado-dos-pedidos-de-isencao.ghtml\n",
      "\n",
      "- Aposentado pelo INSS, senador diz ter sofrido descontos irregulares\n",
      "  🔗 https://g1.globo.com/politica/noticia/2025/05/12/aposentado-pelo-inss-senador-diz-ter-sido-vitima-de-descontos-irregulares-por-entidade-investigada.ghtml\n",
      "\n",
      "- Mulher de idoso alvo de atentado e achado morto é presa junto com amante\n",
      "  🔗 https://g1.globo.com/pe/pernambuco/noticia/2025/05/12/esposa-amante-e-filho-dele-sao-presos-por-assassinato-de-idoso-achado-morto-seis-dias-apos-atentado-a-tiros.ghtml\n",
      "\n"
     ]
    }
   ],
   "source": [
    "print(\"\\n📰 Últimas notícias do G1:\\n\")\n",
    "for noticia in noticias:\n",
    "    titulo = noticia.text.strip()\n",
    "    link = noticia['href']\n",
    "    print(f\"- {titulo}\\n  🔗 {link}\\n\")"
   ]
  }
 ],
 "metadata": {
  "kernelspec": {
   "display_name": "base",
   "language": "python",
   "name": "python3"
  },
  "language_info": {
   "codemirror_mode": {
    "name": "ipython",
    "version": 3
   },
   "file_extension": ".py",
   "mimetype": "text/x-python",
   "name": "python",
   "nbconvert_exporter": "python",
   "pygments_lexer": "ipython3",
   "version": "3.12.7"
  }
 },
 "nbformat": 4,
 "nbformat_minor": 5
}
