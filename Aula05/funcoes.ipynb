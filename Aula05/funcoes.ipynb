{
 "cells": [
  {
   "cell_type": "markdown",
   "id": "d9dc550c",
   "metadata": {},
   "source": [
    "## 🔧 O que são Funções em Python?\n",
    "Funções são blocos de código reutilizáveis que realizam uma tarefa específica. Elas ajudam a organizar melhor o código, evitar repetições e facilitar a manutenção e leitura.\n",
    "\n",
    "## 📌 Por que usar funções?\n",
    "- Reduzem repetição de código (DRY – Don't Repeat Yourself)\n",
    "- Deixam o código mais organizado e modular\n",
    "- Facilitam testes e manutenção\n",
    "- Permitem reutilizar lógica com diferentes dados\n",
    "\n",
    "### Estrutura de uma função em Python"
   ]
  },
  {
   "cell_type": "code",
   "execution_count": null,
   "id": "4f6b0b20",
   "metadata": {},
   "outputs": [],
   "source": [
    "def nome_da_funcao(parâmetros):\n",
    "    # bloco de código\n",
    "    return resultado"
   ]
  },
  {
   "cell_type": "markdown",
   "id": "a3c28767",
   "metadata": {},
   "source": [
    "### Exemplo básico"
   ]
  },
  {
   "cell_type": "code",
   "execution_count": null,
   "id": "305c94d2",
   "metadata": {},
   "outputs": [
    {
     "name": "stdout",
     "output_type": "stream",
     "text": [
      "Olá, bem-vindo ao Python!\n"
     ]
    }
   ],
   "source": [
    "def saudacao():\n",
    "    print(\"Olá, bem-vindo ao Python!\")\n",
    "\n",
    "saudacao()  # Chamada da função"
   ]
  },
  {
   "cell_type": "markdown",
   "id": "c812c8f2",
   "metadata": {},
   "source": [
    "## Funções com parâmetros\n",
    "\n",
    "Permitem que você envie dados para dentro da função:"
   ]
  },
  {
   "cell_type": "code",
   "execution_count": 2,
   "id": "f236e182",
   "metadata": {},
   "outputs": [
    {
     "name": "stdout",
     "output_type": "stream",
     "text": [
      "Olá, Ana!\n"
     ]
    }
   ],
   "source": [
    "def saudacao(nome):\n",
    "    print(f\"Olá, {nome}!\")\n",
    "\n",
    "saudacao(\"Ana\")  # Olá, Ana!"
   ]
  },
  {
   "cell_type": "markdown",
   "id": "7e24ec53",
   "metadata": {},
   "source": [
    "Você pode passar vários parâmetros também:"
   ]
  },
  {
   "cell_type": "code",
   "execution_count": 3,
   "id": "b40599d1",
   "metadata": {},
   "outputs": [
    {
     "name": "stdout",
     "output_type": "stream",
     "text": [
      "8\n"
     ]
    }
   ],
   "source": [
    "def soma(a, b):\n",
    "    return a + b\n",
    "\n",
    "resultado = soma(5, 3)\n",
    "print(resultado)  # 8"
   ]
  },
  {
   "cell_type": "markdown",
   "id": "a7354520",
   "metadata": {},
   "source": [
    "### Palavra-chave return\n",
    "\n",
    "A instrução return envia um resultado de volta para quem chamou a função."
   ]
  },
  {
   "cell_type": "code",
   "execution_count": 5,
   "id": "7714a7bd",
   "metadata": {},
   "outputs": [
    {
     "name": "stdout",
     "output_type": "stream",
     "text": [
      "16\n"
     ]
    }
   ],
   "source": [
    "def quadrado(numero):\n",
    "    return numero ** 2\n",
    "\n",
    "print(quadrado(4))  # 16"
   ]
  },
  {
   "cell_type": "markdown",
   "id": "2203ae2b",
   "metadata": {},
   "source": [
    "Se não usar return, a função retorna None por padrão.\n",
    "\n",
    "### Parâmetros opcionais e valores padrão\n",
    "\n",
    "Você pode definir valores padrão para parâmetros:"
   ]
  },
  {
   "cell_type": "code",
   "execution_count": 6,
   "id": "08d9419a",
   "metadata": {},
   "outputs": [
    {
     "name": "stdout",
     "output_type": "stream",
     "text": [
      "Olá, visitante!\n",
      "Olá, Carlos!\n"
     ]
    }
   ],
   "source": [
    "def saudacao(nome=\"visitante\"):\n",
    "    print(f\"Olá, {nome}!\")\n",
    "\n",
    "saudacao()           # Olá, visitante!\n",
    "saudacao(\"Carlos\")   # Olá, Carlos!"
   ]
  },
  {
   "cell_type": "markdown",
   "id": "0c87b124",
   "metadata": {},
   "source": [
    "### Funções com retorno múltiplo\n",
    "\n",
    "Uma função pode retornar vários valores:"
   ]
  },
  {
   "cell_type": "code",
   "execution_count": 7,
   "id": "b1e04458",
   "metadata": {},
   "outputs": [
    {
     "name": "stdout",
     "output_type": "stream",
     "text": [
      "12 8 20 5.0\n"
     ]
    }
   ],
   "source": [
    "def operacoes(a, b):\n",
    "    return a + b, a - b, a * b, a / b\n",
    "\n",
    "soma, sub, mult, div = operacoes(10, 2)\n",
    "print(soma, sub, mult, div)  # 12 8 20 5.0"
   ]
  },
  {
   "cell_type": "markdown",
   "id": "042fe196",
   "metadata": {},
   "source": [
    "## Boas práticas com funções\n",
    "\n",
    "- Dê nomes claros e significativos às funções\n",
    "- Mantenha as funções curtas e com uma única responsabilidade\n",
    "- Use docstrings para documentar o que a função faz\n",
    "- Teste suas funções com diferentes entradas\n",
    "\n",
    "### Docstring: Comentando funções"
   ]
  },
  {
   "cell_type": "code",
   "execution_count": 8,
   "id": "47a18f6e",
   "metadata": {},
   "outputs": [],
   "source": [
    "def imc(peso, altura):\n",
    "    \"\"\"\n",
    "    Calcula o Índice de Massa Corporal (IMC)\n",
    "    :param peso: peso em kg\n",
    "    :param altura: altura em metros\n",
    "    :return: valor do IMC\n",
    "    \"\"\"\n",
    "    return peso / (altura ** 2)"
   ]
  },
  {
   "cell_type": "markdown",
   "id": "67ed0fd7",
   "metadata": {},
   "source": [
    "## Desafio prático\n",
    "\n",
    "Crie uma função que receba um nome e a idade, e retorne uma mensagem personalizada dizendo se a pessoa é maior de idade ou não."
   ]
  },
  {
   "cell_type": "code",
   "execution_count": 9,
   "id": "2aaefcc2",
   "metadata": {},
   "outputs": [
    {
     "name": "stdout",
     "output_type": "stream",
     "text": [
      "João é maior de idade.\n"
     ]
    }
   ],
   "source": [
    "def verifica_idade(nome, idade):\n",
    "    if idade >= 18:\n",
    "        return f\"{nome} é maior de idade.\"\n",
    "    else:\n",
    "        return f\"{nome} é menor de idade.\"\n",
    "\n",
    "print(verifica_idade(\"João\", 20))  # João é maior de idade."
   ]
  },
  {
   "cell_type": "markdown",
   "id": "11213bb8",
   "metadata": {},
   "source": [
    "# O que é Programação Orientada a Objetos (POO)?\n",
    "\n",
    "POO é um paradigma de programação baseado em \"objetos\", que representam entidades do mundo real com atributos (características) e métodos (comportamentos).\n",
    "\n",
    "## Objetivo da POO\n",
    "- Organizar o código de forma mais modular\n",
    "- Facilitar o reuso e a manutenção\n",
    "- Representar conceitos do mundo real (como pessoa, carro, produto)\n",
    "- Tornar o sistema mais flexível e escalável\n",
    "\n",
    "## Conceitos principais da POO\n",
    "\n",
    "- Classe – Molde para criar objetos (como uma planta de uma casa)\n",
    "- Objeto – Instância concreta da classe (a casa construída com a planta)\n",
    "- Atributos – Características do objeto (nome, idade, cor)\n",
    "- Métodos – Comportamentos do objeto (falar, andar, dirigir)\n",
    "- Encapsulamento – Esconder detalhes internos\n",
    "- Herança – Reutilizar e estender comportamentos\n",
    "- Polimorfismo – Métodos com o mesmo nome, mas comportamentos diferentes\n",
    "\n",
    "## Exemplo prático básico\n",
    "\n",
    "### Criando uma classe"
   ]
  },
  {
   "cell_type": "code",
   "execution_count": 11,
   "id": "7b77a9af",
   "metadata": {},
   "outputs": [
    {
     "name": "stdout",
     "output_type": "stream",
     "text": [
      "Olá, meu nome é Ana e tenho 25 anos.\n"
     ]
    }
   ],
   "source": [
    "class Pessoa:\n",
    "    def __init__(self, nome, idade):\n",
    "        self.nome = nome\n",
    "        self.idade = idade\n",
    "\n",
    "    def apresentar(self):\n",
    "        print(f\"Olá, meu nome é {self.nome} e tenho {self.idade} anos.\")\n",
    "\n",
    "## Criando um objeto\n",
    "p1 = Pessoa(\"Ana\", 25)\n",
    "p1.apresentar()\n",
    "# Saída: Olá, meu nome é Ana e tenho 25 anos."
   ]
  },
  {
   "cell_type": "markdown",
   "id": "d0d80353",
   "metadata": {},
   "source": [
    "### Explicando a estrutura\n",
    "**__init__:**\n",
    "- É o método construtor, chamado automaticamente ao criar um objeto.\n",
    "\n",
    "**self:**\n",
    "- É uma referência ao próprio objeto, usada para acessar atributos e métodos dentro da classe.\n",
    "\n",
    "## Encapsulamento\n",
    "Controla o acesso aos dados internos. Podemos usar:\n",
    "- Público (nome) – acessível de fora\n",
    "- Protegido (_nome) – convenção para uso interno\n",
    "- Privado (__nome) – oculto, mas ainda acessível com nome mangling"
   ]
  },
  {
   "cell_type": "code",
   "execution_count": null,
   "id": "a92f4479",
   "metadata": {},
   "outputs": [
    {
     "name": "stdout",
     "output_type": "stream",
     "text": [
      "1000\n"
     ]
    }
   ],
   "source": [
    "class Conta:\n",
    "    def __init__(self, saldo):\n",
    "        self.__saldo = saldo\n",
    "\n",
    "    def ver_saldo(self):\n",
    "        return self.__saldo\n",
    "\n",
    "conta = Conta(1000)\n",
    "print(conta.ver_saldo())  # 1000\n",
    "# print(conta.__saldo)  # Erro: atributo privado"
   ]
  },
  {
   "cell_type": "markdown",
   "id": "55156fbd",
   "metadata": {},
   "source": [
    "### Herança\n",
    "Permite criar novas classes baseadas em outras."
   ]
  },
  {
   "cell_type": "code",
   "execution_count": 13,
   "id": "9c2c8e48",
   "metadata": {},
   "outputs": [
    {
     "name": "stdout",
     "output_type": "stream",
     "text": [
      "Au au!\n"
     ]
    }
   ],
   "source": [
    "class Animal:\n",
    "    def falar(self):\n",
    "        print(\"Som genérico\")\n",
    "\n",
    "class Cachorro(Animal):\n",
    "    def falar(self):\n",
    "        print(\"Au au!\")\n",
    "\n",
    "dog = Cachorro()\n",
    "dog.falar()  # Au au!"
   ]
  },
  {
   "cell_type": "markdown",
   "id": "4b76dbf3",
   "metadata": {},
   "source": [
    "### Polimorfismo\n",
    "\n",
    "Mesma chamada, comportamentos diferentes:"
   ]
  },
  {
   "cell_type": "code",
   "execution_count": 14,
   "id": "679a17ec",
   "metadata": {},
   "outputs": [
    {
     "name": "stdout",
     "output_type": "stream",
     "text": [
      "Som genérico\n",
      "Au au!\n"
     ]
    }
   ],
   "source": [
    "def emitir_som(animal):\n",
    "    animal.falar()\n",
    "\n",
    "gato = Animal()\n",
    "cachorro = Cachorro()\n",
    "\n",
    "emitir_som(gato)      # Som genérico\n",
    "emitir_som(cachorro)  # Au au!"
   ]
  },
  {
   "cell_type": "markdown",
   "id": "2f23f074",
   "metadata": {},
   "source": [
    "Exemplo completo com atributos e herança"
   ]
  },
  {
   "cell_type": "code",
   "execution_count": 15,
   "id": "114a9513",
   "metadata": {},
   "outputs": [
    {
     "name": "stdout",
     "output_type": "stream",
     "text": [
      "Veículo: Honda CG 160\n",
      "Carro: Toyota Corolla, 4 portas\n"
     ]
    }
   ],
   "source": [
    "class Veiculo:\n",
    "    def __init__(self, marca, modelo):\n",
    "        self.marca = marca\n",
    "        self.modelo = modelo\n",
    "\n",
    "    def apresentar(self):\n",
    "        print(f\"Veículo: {self.marca} {self.modelo}\")\n",
    "\n",
    "class Carro(Veiculo):\n",
    "    def __init__(self, marca, modelo, portas):\n",
    "        super().__init__(marca, modelo)\n",
    "        self.portas = portas\n",
    "\n",
    "    def apresentar(self):\n",
    "        print(f\"Carro: {self.marca} {self.modelo}, {self.portas} portas\")\n",
    "\n",
    "v = Veiculo(\"Honda\", \"CG 160\")\n",
    "v.apresentar()  # Veículo: Honda CG 160\n",
    "\n",
    "c = Carro(\"Toyota\", \"Corolla\", 4)\n",
    "c.apresentar()  # Carro: Toyota Corolla, 4 portas\n"
   ]
  },
  {
   "cell_type": "markdown",
   "id": "33918ba0",
   "metadata": {},
   "source": [
    "## Boas práticas com POO\n",
    "\n",
    "- Use nomes significativos para classes e métodos\n",
    "- Não exponha atributos desnecessariamente (use getters/setters se precisar)\n",
    "- Mantenha a responsabilidade de cada classe única e clara\n",
    "- Use herança com moderação, preferindo composição quando apropriado\n",
    "\n",
    "### Atividade sugerida\n",
    "\n",
    "- Crie um sistema de cadastro de alunos, com:\n",
    "- Classe Pessoa com nome e idade\n",
    "- Classe Aluno herdando de Pessoa, com matrícula e curso\n",
    "- Método apresentar que mostra todas as informações"
   ]
  },
  {
   "cell_type": "markdown",
   "id": "be8228d9",
   "metadata": {},
   "source": []
  }
 ],
 "metadata": {
  "kernelspec": {
   "display_name": "base",
   "language": "python",
   "name": "python3"
  },
  "language_info": {
   "codemirror_mode": {
    "name": "ipython",
    "version": 3
   },
   "file_extension": ".py",
   "mimetype": "text/x-python",
   "name": "python",
   "nbconvert_exporter": "python",
   "pygments_lexer": "ipython3",
   "version": "3.12.7"
  }
 },
 "nbformat": 4,
 "nbformat_minor": 5
}
